{
 "cells": [
  {
   "cell_type": "markdown",
   "metadata": {},
   "source": [
    "# Intro to functions\n",
    "\n",
    "Here we define a function, `food_order`, which has three *arguments* (inputs / parameters) (`spam`, `eggs`, `chips`) and *returns* (outputs) a string. `spam` is allowed to have any value, but we enforce `eggs` and `chips` to be of type `bool` (boolean), i.e. either `True` or `False`, by *raising an error* if they are not.\n",
    "\n",
    "At first it is not so important to implement error handling in your code but it is very useful to help find bugs in larger projects."
   ]
  },
  {
   "cell_type": "code",
   "execution_count": 1,
   "metadata": {},
   "outputs": [],
   "source": [
    "def food_order(spam, eggs=False, chips=False):\n",
    "    \"\"\"Check inputs and return a string.\"\"\"\n",
    "    # Check the inputs are valid\n",
    "    for var in (eggs, chips):\n",
    "        if not isinstance(var, bool):\n",
    "            raise ValueError(\"`eggs` and `chips` must be bool\")\n",
    "    # Return a different string depending on the inputs\n",
    "    if spam != \"spam\":\n",
    "        return \"We don't have that!\"\n",
    "    if eggs & chips:\n",
    "        return \"Spam, eggs, and chips!\"\n",
    "    if eggs & ~chips:\n",
    "        return \"Spam and eggs!\"\n",
    "    if ~eggs & chips:\n",
    "        return \"Spam and chips!\"\n",
    "    if ~eggs & ~chips:\n",
    "        return \"Spam spam spam!\""
   ]
  },
  {
   "cell_type": "markdown",
   "metadata": {},
   "source": [
    "Hre we *call* the function (run the code) and print what it returns. Inside the function, the values of the inputs are checked and a different string is returned depending on the input values."
   ]
  },
  {
   "cell_type": "code",
   "execution_count": 2,
   "metadata": {},
   "outputs": [
    {
     "name": "stdout",
     "output_type": "stream",
     "text": [
      "Spam spam spam!\n"
     ]
    }
   ],
   "source": [
    "print(food_order(\"spam\"))"
   ]
  },
  {
   "cell_type": "code",
   "execution_count": 3,
   "metadata": {},
   "outputs": [
    {
     "name": "stdout",
     "output_type": "stream",
     "text": [
      "Spam and eggs!\n"
     ]
    }
   ],
   "source": [
    "print(food_order(\"spam\", eggs=True))"
   ]
  },
  {
   "cell_type": "code",
   "execution_count": 4,
   "metadata": {},
   "outputs": [
    {
     "name": "stdout",
     "output_type": "stream",
     "text": [
      "We don't have that!\n"
     ]
    }
   ],
   "source": [
    "print(food_order(\"ham\"))"
   ]
  },
  {
   "cell_type": "markdown",
   "metadata": {},
   "source": [
    "When an error occurs, the error type (ValueError) is given, along with a message, and snippets which show us where in the code the error occurred (identified by the file names, function names, and line numbers)."
   ]
  },
  {
   "cell_type": "code",
   "execution_count": 5,
   "metadata": {},
   "outputs": [
    {
     "ename": "ValueError",
     "evalue": "`eggs` and `chips` must be bool",
     "output_type": "error",
     "traceback": [
      "\u001b[0;31m---------------------------------------------------------------------------\u001b[0m",
      "\u001b[0;31mValueError\u001b[0m                                Traceback (most recent call last)",
      "\u001b[0;32m<ipython-input-5-f4b2f6baaf55>\u001b[0m in \u001b[0;36m<module>\u001b[0;34m\u001b[0m\n\u001b[0;32m----> 1\u001b[0;31m \u001b[0mprint\u001b[0m\u001b[0;34m(\u001b[0m\u001b[0mfood_order\u001b[0m\u001b[0;34m(\u001b[0m\u001b[0;34m\"spam\"\u001b[0m\u001b[0;34m,\u001b[0m \u001b[0meggs\u001b[0m\u001b[0;34m=\u001b[0m\u001b[0;34m\"eggs\"\u001b[0m\u001b[0;34m)\u001b[0m\u001b[0;34m)\u001b[0m\u001b[0;34m\u001b[0m\u001b[0;34m\u001b[0m\u001b[0m\n\u001b[0m",
      "\u001b[0;32m<ipython-input-1-3a901897238d>\u001b[0m in \u001b[0;36mfood_order\u001b[0;34m(spam, eggs, chips)\u001b[0m\n\u001b[1;32m      4\u001b[0m     \u001b[0;32mfor\u001b[0m \u001b[0mvar\u001b[0m \u001b[0;32min\u001b[0m \u001b[0;34m(\u001b[0m\u001b[0meggs\u001b[0m\u001b[0;34m,\u001b[0m \u001b[0mchips\u001b[0m\u001b[0;34m)\u001b[0m\u001b[0;34m:\u001b[0m\u001b[0;34m\u001b[0m\u001b[0;34m\u001b[0m\u001b[0m\n\u001b[1;32m      5\u001b[0m         \u001b[0;32mif\u001b[0m \u001b[0;32mnot\u001b[0m \u001b[0misinstance\u001b[0m\u001b[0;34m(\u001b[0m\u001b[0mvar\u001b[0m\u001b[0;34m,\u001b[0m \u001b[0mbool\u001b[0m\u001b[0;34m)\u001b[0m\u001b[0;34m:\u001b[0m\u001b[0;34m\u001b[0m\u001b[0;34m\u001b[0m\u001b[0m\n\u001b[0;32m----> 6\u001b[0;31m             \u001b[0;32mraise\u001b[0m \u001b[0mValueError\u001b[0m\u001b[0;34m(\u001b[0m\u001b[0;34m\"`eggs` and `chips` must be bool\"\u001b[0m\u001b[0;34m)\u001b[0m\u001b[0;34m\u001b[0m\u001b[0;34m\u001b[0m\u001b[0m\n\u001b[0m\u001b[1;32m      7\u001b[0m     \u001b[0;31m# Return a different string depending on the inputs\u001b[0m\u001b[0;34m\u001b[0m\u001b[0;34m\u001b[0m\u001b[0;34m\u001b[0m\u001b[0m\n\u001b[1;32m      8\u001b[0m     \u001b[0;32mif\u001b[0m \u001b[0mspam\u001b[0m \u001b[0;34m!=\u001b[0m \u001b[0;34m\"spam\"\u001b[0m\u001b[0;34m:\u001b[0m\u001b[0;34m\u001b[0m\u001b[0;34m\u001b[0m\u001b[0m\n",
      "\u001b[0;31mValueError\u001b[0m: `eggs` and `chips` must be bool"
     ]
    }
   ],
   "source": [
    "print(food_order(\"spam\", eggs=\"eggs\"))"
   ]
  },
  {
   "cell_type": "markdown",
   "metadata": {},
   "source": [
    "A function can be called with several input arguments and can be *positional arguments* or *keyword arguments*.\n",
    "\n",
    "`food_order(\"spam\", eggs=True, chips=False)`\n",
    "\n",
    "In our example, the positional argument, `spam`, is always required, and here we set it to be the string `\"spam\"`. Positional arguments (\"args\") are given before keyword arguments and they must be given in the right order (their *position* matters). Keyword arguments (\"kwargs\") can be given in any order and they are optional - default values are assigned as part of the function definition. kwargs are useful when you often just want to use the default when calling the function, and are also preferable when there are many input arguments - they help you keep track of what arguments you are giving to the function. \n",
    "\n"
   ]
  },
  {
   "cell_type": "markdown",
   "metadata": {},
   "source": [
    "We attached a one line *docstring* to the function which gives a description of its overall behaviour. This makes the code \"self-documenting\" which is very helpful in large projects."
   ]
  },
  {
   "cell_type": "code",
   "execution_count": 6,
   "metadata": {},
   "outputs": [],
   "source": [
    "food_order?"
   ]
  }
 ],
 "metadata": {
  "kernelspec": {
   "display_name": "py37",
   "language": "python",
   "name": "py37"
  },
  "language_info": {
   "codemirror_mode": {
    "name": "ipython",
    "version": 3
   },
   "file_extension": ".py",
   "mimetype": "text/x-python",
   "name": "python",
   "nbconvert_exporter": "python",
   "pygments_lexer": "ipython3",
   "version": "3.7.2"
  }
 },
 "nbformat": 4,
 "nbformat_minor": 2
}
