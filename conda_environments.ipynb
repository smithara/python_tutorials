{
 "cells": [
  {
   "cell_type": "markdown",
   "metadata": {},
   "source": [
    "# Introduction to (Ana)conda and programming environments\n",
    "\n",
    "Conda is an open source *package* and *environment* management system. Anaconda is a product which is based on conda and provides a GUI (which is a command line tool). The GUI is called \"Anaconda Navigator\". \n",
    "\n",
    "(The instructions here are for using Anaconda Navigator but the concepts are the same for the command line usage of conda\n",
    "\n",
    "Packages are individual units of software, and a package manager is a program that helps download, update, and coordinate packages to ensure you have compatible versions. For example, `Python 3.7.0` itself is a package, as well as `numpy` which requires an installation of Python as it is a Python package. Capabilities which your Python installation has can be extended by installing new packages, and these packages are continually updated so there is a need to manage these carefully.\n",
    "\n",
    "An environment is the collection of software which is accessible - the environment on one computer is different to that on another computer, and managed systems (e.g. in universities) often have a standard environment available on all computers. If you are using a managed installation of (Ana)conda, this \"standard\" environment includes (Ana)conda itself, as well as the \"root\" Python environment. In this case, normally you will not be able to modify the root environment. To install new packages, you will need to create, and work within, a new environment which is stored within your user space.\n",
    "\n",
    "More generally, environments are useful in order to isolate software projects and ensure they do not interfere with each other. When you create a project, if you want to ensure exact reproduceability then you are really tied to executing that code only within the environment it was created, i.e. the precise combination of package version numbers. If you need to access this code several years later, these packages will have newer versions which may not be compatible with your code. If that project has its own environment, then you are free to create a new environment  for other projects where other packages may be used without fear of breaking the code of the first project.\n",
    "\n",
    "## Creating new environments\n",
    "\n",
    "1. Open \"Anaconda Navigator\" and go to \"Environments\" on the left.\n",
    "2. Click \"Create\", give your environment a name, e.g. `py36`, and choose a Python version to use (3.6 or 3.7 is fine).\n",
    "3. Switch to the environment by clicking on its name. Then add packages you want available in this environment by searching for them, selecting the tick box, and clicking apply. They will then be downloaded and installed along with their dependencies. (Suggested packages: `scipy pandas` - this will also include `numpy matplotlib` etc. as they are dependencies)\n",
    "4. Select your environment and launch Jupyter/Spyder/etc. Always check which environment is active before you launch one of these as this will dictate which packages are available.\n",
    "\n",
    "## Installing cartopy\n",
    "\n",
    "cartopy is not in the standard conda \"channel\" (an online collection of available software) so we need to add the \"conda-forge\" channel to be able to find it.\n",
    "\n",
    "- In \"Environments\", click on your environment, then click \"Channels\" and add `conda-forge`. Then \"Update index...\" and now cartopy will be available. Search for it, select it, and click apply, as above.\n",
    "\n",
    "### Command line instructions\n",
    "\n",
    "For more info: https://conda.io/projects/conda/en/latest/user-guide/getting-started.html\n",
    "\n",
    "- Create an environment: `conda \n",
    "From the command line, cartopy can be installed with `conda install -c conda-forge cartopy` (if you are using a separate conda environment, first switch to it with `source activate your_environment`). "
   ]
  }
 ],
 "metadata": {
  "kernelspec": {
   "display_name": "py37",
   "language": "python",
   "name": "py37"
  },
  "language_info": {
   "codemirror_mode": {
    "name": "ipython",
    "version": 3
   },
   "file_extension": ".py",
   "mimetype": "text/x-python",
   "name": "python",
   "nbconvert_exporter": "python",
   "pygments_lexer": "ipython3",
   "version": "3.7.2"
  }
 },
 "nbformat": 4,
 "nbformat_minor": 2
}
